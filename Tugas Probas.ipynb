{
 "cells": [
  {
   "cell_type": "markdown",
   "id": "24ff5a4f-ef1a-452f-924b-f283d39becba",
   "metadata": {},
   "source": [
    "# Diky Dwicandra\n",
    "# 2109106038\n",
    "## Tugas 2 PROBAS"
   ]
  },
  {
   "cell_type": "markdown",
   "id": "8e630f7f-0aa8-4ccd-80b5-ed93ad304f44",
   "metadata": {},
   "source": [
    "## Mengimport Library"
   ]
  },
  {
   "cell_type": "code",
   "execution_count": 2,
   "id": "b0e94180-b203-423d-86a4-a409f4007e3d",
   "metadata": {},
   "outputs": [],
   "source": [
    "import pandas as pd\n",
    "from matplotlib import pyplot as plt\n",
    "import seaborn as sns"
   ]
  },
  {
   "cell_type": "markdown",
   "id": "afdc696d-226f-4d5e-8768-3f5a1253c58f",
   "metadata": {},
   "source": [
    "## Mengimport Dataset"
   ]
  },
  {
   "cell_type": "code",
   "execution_count": 3,
   "id": "cb2e6900-06d3-4d9a-8192-535e300833b9",
   "metadata": {},
   "outputs": [],
   "source": [
    "df = pd.read_csv(\"StudentsPerformance.csv\")"
   ]
  },
  {
   "cell_type": "code",
   "execution_count": 4,
   "id": "aa598d11-cf6c-4f32-bb62-23cc084570d7",
   "metadata": {},
   "outputs": [
    {
     "data": {
      "text/html": [
       "<div>\n",
       "<style scoped>\n",
       "    .dataframe tbody tr th:only-of-type {\n",
       "        vertical-align: middle;\n",
       "    }\n",
       "\n",
       "    .dataframe tbody tr th {\n",
       "        vertical-align: top;\n",
       "    }\n",
       "\n",
       "    .dataframe thead th {\n",
       "        text-align: right;\n",
       "    }\n",
       "</style>\n",
       "<table border=\"1\" class=\"dataframe\">\n",
       "  <thead>\n",
       "    <tr style=\"text-align: right;\">\n",
       "      <th></th>\n",
       "      <th>gender</th>\n",
       "      <th>race/ethnicity</th>\n",
       "      <th>parental level of education</th>\n",
       "      <th>lunch</th>\n",
       "      <th>test preparation course</th>\n",
       "      <th>math_score</th>\n",
       "      <th>reading_score</th>\n",
       "      <th>writing_score</th>\n",
       "    </tr>\n",
       "  </thead>\n",
       "  <tbody>\n",
       "    <tr>\n",
       "      <th>0</th>\n",
       "      <td>female</td>\n",
       "      <td>group B</td>\n",
       "      <td>bachelor's degree</td>\n",
       "      <td>standard</td>\n",
       "      <td>none</td>\n",
       "      <td>72</td>\n",
       "      <td>72</td>\n",
       "      <td>74</td>\n",
       "    </tr>\n",
       "    <tr>\n",
       "      <th>1</th>\n",
       "      <td>female</td>\n",
       "      <td>group C</td>\n",
       "      <td>some college</td>\n",
       "      <td>standard</td>\n",
       "      <td>completed</td>\n",
       "      <td>69</td>\n",
       "      <td>90</td>\n",
       "      <td>88</td>\n",
       "    </tr>\n",
       "    <tr>\n",
       "      <th>2</th>\n",
       "      <td>female</td>\n",
       "      <td>group B</td>\n",
       "      <td>master's degree</td>\n",
       "      <td>standard</td>\n",
       "      <td>none</td>\n",
       "      <td>90</td>\n",
       "      <td>95</td>\n",
       "      <td>93</td>\n",
       "    </tr>\n",
       "    <tr>\n",
       "      <th>3</th>\n",
       "      <td>male</td>\n",
       "      <td>group A</td>\n",
       "      <td>associate's degree</td>\n",
       "      <td>free/reduced</td>\n",
       "      <td>none</td>\n",
       "      <td>47</td>\n",
       "      <td>57</td>\n",
       "      <td>44</td>\n",
       "    </tr>\n",
       "    <tr>\n",
       "      <th>4</th>\n",
       "      <td>male</td>\n",
       "      <td>group C</td>\n",
       "      <td>some college</td>\n",
       "      <td>standard</td>\n",
       "      <td>none</td>\n",
       "      <td>76</td>\n",
       "      <td>78</td>\n",
       "      <td>75</td>\n",
       "    </tr>\n",
       "    <tr>\n",
       "      <th>5</th>\n",
       "      <td>female</td>\n",
       "      <td>group B</td>\n",
       "      <td>associate's degree</td>\n",
       "      <td>standard</td>\n",
       "      <td>none</td>\n",
       "      <td>71</td>\n",
       "      <td>83</td>\n",
       "      <td>78</td>\n",
       "    </tr>\n",
       "    <tr>\n",
       "      <th>6</th>\n",
       "      <td>female</td>\n",
       "      <td>group B</td>\n",
       "      <td>some college</td>\n",
       "      <td>standard</td>\n",
       "      <td>completed</td>\n",
       "      <td>88</td>\n",
       "      <td>95</td>\n",
       "      <td>92</td>\n",
       "    </tr>\n",
       "    <tr>\n",
       "      <th>7</th>\n",
       "      <td>male</td>\n",
       "      <td>group B</td>\n",
       "      <td>some college</td>\n",
       "      <td>free/reduced</td>\n",
       "      <td>none</td>\n",
       "      <td>40</td>\n",
       "      <td>43</td>\n",
       "      <td>39</td>\n",
       "    </tr>\n",
       "    <tr>\n",
       "      <th>8</th>\n",
       "      <td>male</td>\n",
       "      <td>group D</td>\n",
       "      <td>high school</td>\n",
       "      <td>free/reduced</td>\n",
       "      <td>completed</td>\n",
       "      <td>64</td>\n",
       "      <td>64</td>\n",
       "      <td>67</td>\n",
       "    </tr>\n",
       "    <tr>\n",
       "      <th>9</th>\n",
       "      <td>female</td>\n",
       "      <td>group B</td>\n",
       "      <td>high school</td>\n",
       "      <td>free/reduced</td>\n",
       "      <td>none</td>\n",
       "      <td>38</td>\n",
       "      <td>60</td>\n",
       "      <td>50</td>\n",
       "    </tr>\n",
       "  </tbody>\n",
       "</table>\n",
       "</div>"
      ],
      "text/plain": [
       "   gender race/ethnicity parental level of education         lunch  \\\n",
       "0  female        group B           bachelor's degree      standard   \n",
       "1  female        group C                some college      standard   \n",
       "2  female        group B             master's degree      standard   \n",
       "3    male        group A          associate's degree  free/reduced   \n",
       "4    male        group C                some college      standard   \n",
       "5  female        group B          associate's degree      standard   \n",
       "6  female        group B                some college      standard   \n",
       "7    male        group B                some college  free/reduced   \n",
       "8    male        group D                 high school  free/reduced   \n",
       "9  female        group B                 high school  free/reduced   \n",
       "\n",
       "  test preparation course  math_score  reading_score  writing_score  \n",
       "0                    none          72             72             74  \n",
       "1               completed          69             90             88  \n",
       "2                    none          90             95             93  \n",
       "3                    none          47             57             44  \n",
       "4                    none          76             78             75  \n",
       "5                    none          71             83             78  \n",
       "6               completed          88             95             92  \n",
       "7                    none          40             43             39  \n",
       "8               completed          64             64             67  \n",
       "9                    none          38             60             50  "
      ]
     },
     "execution_count": 4,
     "metadata": {},
     "output_type": "execute_result"
    }
   ],
   "source": [
    "df.head(10)"
   ]
  },
  {
   "cell_type": "code",
   "execution_count": 183,
   "id": "361f46f8-4f6f-4f2c-8407-47f5878823f5",
   "metadata": {},
   "outputs": [
    {
     "data": {
      "text/plain": [
       "(1000, 8)"
      ]
     },
     "execution_count": 183,
     "metadata": {},
     "output_type": "execute_result"
    }
   ],
   "source": [
    "df.shape"
   ]
  },
  {
   "cell_type": "markdown",
   "id": "2261e258-c30f-42d5-89b3-71b2d03f6e3e",
   "metadata": {},
   "source": [
    "## Melihat type data di dataset"
   ]
  },
  {
   "cell_type": "code",
   "execution_count": 184,
   "id": "042d24fe-2bc7-47a2-96ed-8963c042c2f1",
   "metadata": {},
   "outputs": [
    {
     "name": "stdout",
     "output_type": "stream",
     "text": [
      "<class 'pandas.core.frame.DataFrame'>\n",
      "RangeIndex: 1000 entries, 0 to 999\n",
      "Data columns (total 8 columns):\n",
      " #   Column                       Non-Null Count  Dtype \n",
      "---  ------                       --------------  ----- \n",
      " 0   gender                       1000 non-null   object\n",
      " 1   race/ethnicity               1000 non-null   object\n",
      " 2   parental level of education  1000 non-null   object\n",
      " 3   lunch                        1000 non-null   object\n",
      " 4   test preparation course      1000 non-null   object\n",
      " 5   math_score                   1000 non-null   int64 \n",
      " 6   reading_score                1000 non-null   int64 \n",
      " 7   writing_score                1000 non-null   int64 \n",
      "dtypes: int64(3), object(5)\n",
      "memory usage: 62.6+ KB\n"
     ]
    }
   ],
   "source": [
    "df.info()"
   ]
  },
  {
   "cell_type": "markdown",
   "id": "4be55282-dd0b-4e51-a446-7ac128911e26",
   "metadata": {},
   "source": [
    "# A. Buat Tabel Distribusi Frekuensi dan Histogram Variabe reading_score dan writing_score dengan jumlah dan lebar interval sebesar 10."
   ]
  },
  {
   "cell_type": "markdown",
   "id": "b6ce95d4-2d02-4aad-99ee-c7a89f554719",
   "metadata": {},
   "source": [
    "### Reading Score"
   ]
  },
  {
   "cell_type": "code",
   "execution_count": 188,
   "id": "cf19b145-f991-4c4e-af17-7bb7a1b36133",
   "metadata": {},
   "outputs": [
    {
     "data": {
      "text/html": [
       "<div>\n",
       "<style scoped>\n",
       "    .dataframe tbody tr th:only-of-type {\n",
       "        vertical-align: middle;\n",
       "    }\n",
       "\n",
       "    .dataframe tbody tr th {\n",
       "        vertical-align: top;\n",
       "    }\n",
       "\n",
       "    .dataframe thead th {\n",
       "        text-align: right;\n",
       "    }\n",
       "</style>\n",
       "<table border=\"1\" class=\"dataframe\">\n",
       "  <thead>\n",
       "    <tr style=\"text-align: right;\">\n",
       "      <th></th>\n",
       "      <th>Reading_Score</th>\n",
       "      <th>Banyak_Data</th>\n",
       "    </tr>\n",
       "  </thead>\n",
       "  <tbody>\n",
       "    <tr>\n",
       "      <th>0</th>\n",
       "      <td>(0, 10]</td>\n",
       "      <td>0</td>\n",
       "    </tr>\n",
       "    <tr>\n",
       "      <th>1</th>\n",
       "      <td>(10, 20]</td>\n",
       "      <td>1</td>\n",
       "    </tr>\n",
       "    <tr>\n",
       "      <th>2</th>\n",
       "      <td>(20, 30]</td>\n",
       "      <td>7</td>\n",
       "    </tr>\n",
       "    <tr>\n",
       "      <th>3</th>\n",
       "      <td>(30, 40]</td>\n",
       "      <td>19</td>\n",
       "    </tr>\n",
       "    <tr>\n",
       "      <th>4</th>\n",
       "      <td>(40, 50]</td>\n",
       "      <td>70</td>\n",
       "    </tr>\n",
       "    <tr>\n",
       "      <th>5</th>\n",
       "      <td>(50, 60]</td>\n",
       "      <td>178</td>\n",
       "    </tr>\n",
       "    <tr>\n",
       "      <th>6</th>\n",
       "      <td>(60, 70]</td>\n",
       "      <td>238</td>\n",
       "    </tr>\n",
       "    <tr>\n",
       "      <th>7</th>\n",
       "      <td>(70, 80]</td>\n",
       "      <td>252</td>\n",
       "    </tr>\n",
       "    <tr>\n",
       "      <th>8</th>\n",
       "      <td>(80, 90]</td>\n",
       "      <td>173</td>\n",
       "    </tr>\n",
       "    <tr>\n",
       "      <th>9</th>\n",
       "      <td>(90, 100]</td>\n",
       "      <td>62</td>\n",
       "    </tr>\n",
       "  </tbody>\n",
       "</table>\n",
       "</div>"
      ],
      "text/plain": [
       "  Reading_Score  Banyak_Data\n",
       "0       (0, 10]            0\n",
       "1      (10, 20]            1\n",
       "2      (20, 30]            7\n",
       "3      (30, 40]           19\n",
       "4      (40, 50]           70\n",
       "5      (50, 60]          178\n",
       "6      (60, 70]          238\n",
       "7      (70, 80]          252\n",
       "8      (80, 90]          173\n",
       "9     (90, 100]           62"
      ]
     },
     "execution_count": 188,
     "metadata": {},
     "output_type": "execute_result"
    }
   ],
   "source": [
    "lebar_interval= pd.interval_range(0,100,freq=10)\n",
    "frekuensi= pd.cut(df['reading_score'],lebar_interval)\n",
    "frekuensi.value_counts(sort=False).rename_axis(\"Reading_Score\").reset_index(name=\"Banyak_Data\")\n"
   ]
  },
  {
   "cell_type": "code",
   "execution_count": 219,
   "id": "ed5b2aa8-4573-43f2-92ee-8895787cdded",
   "metadata": {},
   "outputs": [
    {
     "data": {
      "text/plain": [
       "Text(0, 0.5, 'frekuensi')"
      ]
     },
     "execution_count": 219,
     "metadata": {},
     "output_type": "execute_result"
    },
    {
     "data": {
      "image/png": "[encoded data removed]",
      "text/plain": [
       "<Figure size 640x480 with 1 Axes>"
      ]
     },
     "metadata": {},
     "output_type": "display_data"
    }
   ],
   "source": [
    "df.hist(column=\"reading_score\")\n",
    "plt.xlabel(\"Reading score\")\n",
    "plt.ylabel(\"frekuensi\")"
   ]
  },
  {
   "cell_type": "markdown",
   "id": "cdc84d6e-da7d-4832-9df2-84682a649fcd",
   "metadata": {},
   "source": [
    "## Writing Score"
   ]
  },
  {
   "cell_type": "code",
   "execution_count": 204,
   "id": "58373f82-fd75-4256-b82e-436368933e12",
   "metadata": {},
   "outputs": [
    {
     "data": {
      "text/html": [
       "<div>\n",
       "<style scoped>\n",
       "    .dataframe tbody tr th:only-of-type {\n",
       "        vertical-align: middle;\n",
       "    }\n",
       "\n",
       "    .dataframe tbody tr th {\n",
       "        vertical-align: top;\n",
       "    }\n",
       "\n",
       "    .dataframe thead th {\n",
       "        text-align: right;\n",
       "    }\n",
       "</style>\n",
       "<table border=\"1\" class=\"dataframe\">\n",
       "  <thead>\n",
       "    <tr style=\"text-align: right;\">\n",
       "      <th></th>\n",
       "      <th>Reading_Score</th>\n",
       "      <th>Banyak_Data</th>\n",
       "    </tr>\n",
       "  </thead>\n",
       "  <tbody>\n",
       "    <tr>\n",
       "      <th>0</th>\n",
       "      <td>(0, 10]</td>\n",
       "      <td>1</td>\n",
       "    </tr>\n",
       "    <tr>\n",
       "      <th>1</th>\n",
       "      <td>(10, 20]</td>\n",
       "      <td>2</td>\n",
       "    </tr>\n",
       "    <tr>\n",
       "      <th>2</th>\n",
       "      <td>(20, 30]</td>\n",
       "      <td>7</td>\n",
       "    </tr>\n",
       "    <tr>\n",
       "      <th>3</th>\n",
       "      <td>(30, 40]</td>\n",
       "      <td>25</td>\n",
       "    </tr>\n",
       "    <tr>\n",
       "      <th>4</th>\n",
       "      <td>(40, 50]</td>\n",
       "      <td>89</td>\n",
       "    </tr>\n",
       "    <tr>\n",
       "      <th>5</th>\n",
       "      <td>(50, 60]</td>\n",
       "      <td>177</td>\n",
       "    </tr>\n",
       "    <tr>\n",
       "      <th>6</th>\n",
       "      <td>(60, 70]</td>\n",
       "      <td>243</td>\n",
       "    </tr>\n",
       "    <tr>\n",
       "      <th>7</th>\n",
       "      <td>(70, 80]</td>\n",
       "      <td>248</td>\n",
       "    </tr>\n",
       "    <tr>\n",
       "      <th>8</th>\n",
       "      <td>(80, 90]</td>\n",
       "      <td>140</td>\n",
       "    </tr>\n",
       "    <tr>\n",
       "      <th>9</th>\n",
       "      <td>(90, 100]</td>\n",
       "      <td>68</td>\n",
       "    </tr>\n",
       "  </tbody>\n",
       "</table>\n",
       "</div>"
      ],
      "text/plain": [
       "  Reading_Score  Banyak_Data\n",
       "0       (0, 10]            1\n",
       "1      (10, 20]            2\n",
       "2      (20, 30]            7\n",
       "3      (30, 40]           25\n",
       "4      (40, 50]           89\n",
       "5      (50, 60]          177\n",
       "6      (60, 70]          243\n",
       "7      (70, 80]          248\n",
       "8      (80, 90]          140\n",
       "9     (90, 100]           68"
      ]
     },
     "execution_count": 204,
     "metadata": {},
     "output_type": "execute_result"
    }
   ],
   "source": [
    "lebar_interval= pd.interval_range(0,100,freq=10)\n",
    "frekuensi= pd.cut(df['writing_score'],lebar_interval)\n",
    "frekuensi.value_counts(sort=False).rename_axis(\"Reading_Score\").reset_index(name=\"Banyak_Data\")"
   ]
  },
  {
   "cell_type": "code",
   "execution_count": 216,
   "id": "99724d34-30e1-4978-ab96-afcca4b981f6",
   "metadata": {},
   "outputs": [
    {
     "data": {
      "text/plain": [
       "Text(0, 0.5, 'frekuensi')"
      ]
     },
     "execution_count": 216,
     "metadata": {},
     "output_type": "execute_result"
    },
    {
     "data": {
      "image/png": "[encoded data removed]",
      "text/plain": [
       "<Figure size 640x480 with 1 Axes>"
      ]
     },
     "metadata": {},
     "output_type": "display_data"
    }
   ],
   "source": [
    "\n",
    "df.hist(column=\"writing_score\")\n",
    "plt.xlabel(\"Writing score\")\n",
    "plt.ylabel(\"frekuensi\")\n"
   ]
  },
  {
   "cell_type": "markdown",
   "id": "cb7f8163-86d9-4170-99b1-5ef6921a6591",
   "metadata": {},
   "source": [
    "# B. Tentukan nilai Tendensi Central: Rata-rata, Median, Modus, Min dan Max data kedua variable tersebut.\n"
   ]
  },
  {
   "cell_type": "markdown",
   "id": "250497c7-7bc4-4578-ba71-17a009a0382d",
   "metadata": {},
   "source": [
    "## - Rata-rata"
   ]
  },
  {
   "cell_type": "code",
   "execution_count": 167,
   "id": "941f7379-8d63-4355-81d4-5716369abb36",
   "metadata": {},
   "outputs": [
    {
     "name": "stdout",
     "output_type": "stream",
     "text": [
      "Rata-rata reading_score =  69.169\n",
      "Rata-rata writing_score =  68.054\n"
     ]
    }
   ],
   "source": [
    "print(\"Rata-rata reading_score = \",df['reading_score'].mean())\n",
    "print(\"Rata-rata writing_score = \",df['writing_score'].mean())"
   ]
  },
  {
   "cell_type": "markdown",
   "id": "9a88c6bf-f57f-4345-acfc-502cfb87bde8",
   "metadata": {},
   "source": [
    "## - Median"
   ]
  },
  {
   "cell_type": "code",
   "execution_count": 169,
   "id": "9b84057c-d934-49fe-bf16-2eb37e1d3ed6",
   "metadata": {},
   "outputs": [
    {
     "name": "stdout",
     "output_type": "stream",
     "text": [
      "Median reading_score =  70.0\n",
      "Median writing_score =  69.0\n"
     ]
    }
   ],
   "source": [
    "print(\"Median reading_score = \",df['reading_score'].median())\n",
    "print(\"Median writing_score = \",df['writing_score'].median())"
   ]
  },
  {
   "cell_type": "markdown",
   "id": "4cfb58df-ce9e-4521-944a-8386a5e419ab",
   "metadata": {},
   "source": [
    "## - Modus"
   ]
  },
  {
   "cell_type": "code",
   "execution_count": 172,
   "id": "6657d349-a439-4c01-a894-68f049fe4839",
   "metadata": {},
   "outputs": [
    {
     "name": "stdout",
     "output_type": "stream",
     "text": [
      "Modus reading_score =  0    72\n",
      "Name: reading_score, dtype: int64\n",
      "Modus writing_score =  0    74\n",
      "Name: writing_score, dtype: int64\n"
     ]
    }
   ],
   "source": [
    "print(\"Modus reading_score = \",df['reading_score'].mode())\n",
    "print(\"Modus writing_score = \",df['writing_score'].mode())"
   ]
  },
  {
   "cell_type": "markdown",
   "id": "19be50ee-37cc-45e8-8a2b-c2eb28e6ba2f",
   "metadata": {},
   "source": [
    "## - Min"
   ]
  },
  {
   "cell_type": "code",
   "execution_count": 174,
   "id": "b7ac85f2-9f16-47bb-b997-e3b39b510b21",
   "metadata": {},
   "outputs": [
    {
     "name": "stdout",
     "output_type": "stream",
     "text": [
      "Min reading_score =  17\n",
      "Min writing_score =  10\n"
     ]
    }
   ],
   "source": [
    "print(\"Min reading_score = \",df['reading_score'].min())\n",
    "print(\"Min writing_score = \",df['writing_score'].min())"
   ]
  },
  {
   "cell_type": "markdown",
   "id": "34e21665-db61-4af6-ba6b-93c3c9ebf791",
   "metadata": {},
   "source": [
    "## - Max"
   ]
  },
  {
   "cell_type": "code",
   "execution_count": 177,
   "id": "8d9643fa-b751-4ec0-9c7c-810f9653ac8d",
   "metadata": {},
   "outputs": [
    {
     "name": "stdout",
     "output_type": "stream",
     "text": [
      "Max reading_score =  100\n",
      "Max writing_score =  100\n"
     ]
    }
   ],
   "source": [
    "print(\"Max reading_score = \",df['reading_score'].max())\n",
    "print(\"Max writing_score = \",df['writing_score'].max())"
   ]
  },
  {
   "cell_type": "markdown",
   "id": "716ba0c2-4d8c-47d3-b685-a0542d67e6b9",
   "metadata": {},
   "source": [
    "# C. Tentukan nilai Variasi: Jangkauan Range, Kisaran Interkuartil, Varians, Standar Deviasi data reading_score dan writing_score."
   ]
  },
  {
   "cell_type": "markdown",
   "id": "b6ab2c26-9fb7-4a1a-bd1a-9781c229e407",
   "metadata": {},
   "source": [
    "### -Jangkauan range"
   ]
  },
  {
   "cell_type": "code",
   "execution_count": 158,
   "id": "c4e79e12-f5f8-4f0e-a3f9-bc4919d0e812",
   "metadata": {},
   "outputs": [
    {
     "name": "stdout",
     "output_type": "stream",
     "text": [
      "Jangkauan range reading_score = 83\n",
      "Jangkauan range writing_score = 90\n"
     ]
    }
   ],
   "source": [
    "print(\"Jangkauan range reading_score =\", df[\"reading_score\"].max() - df[\"reading_score\"].min())\n",
    "print(\"Jangkauan range writing_score =\", df[\"writing_score\"].max() - df[\"writing_score\"].min())"
   ]
  },
  {
   "cell_type": "markdown",
   "id": "ccc7dd34-d9f1-4aa6-bca5-055e8842ad82",
   "metadata": {},
   "source": [
    "## -Kisaran Interquartil"
   ]
  },
  {
   "cell_type": "markdown",
   "id": "ee717f48-9e27-4ee5-9269-65357fcb44a4",
   "metadata": {},
   "source": [
    "##### reading_score Q1,Q2,Q3"
   ]
  },
  {
   "cell_type": "code",
   "execution_count": 217,
   "id": "f3dfa37e-4bd9-44cf-bf4c-301a1d757bcd",
   "metadata": {},
   "outputs": [
    {
     "name": "stdout",
     "output_type": "stream",
     "text": [
      "Q1 =  59.0\n",
      "Q2 =  70.0\n",
      "Q3 =  79.0\n"
     ]
    }
   ],
   "source": [
    "print(\"Q1 = \",df['reading_score'].quantile(0.25))\n",
    "print(\"Q2 = \",df['reading_score'].quantile(0.50))\n",
    "print(\"Q3 = \",df['reading_score'].quantile(0.75))"
   ]
  },
  {
   "cell_type": "markdown",
   "id": "bc772f95-04ee-4eb9-9b98-c41008677600",
   "metadata": {},
   "source": [
    "#### Jadi kisaran interkuartil reading_score = Q3-Q1"
   ]
  },
  {
   "cell_type": "code",
   "execution_count": 154,
   "id": "9b4f1145-fba9-4162-b3b1-af5e4da3217a",
   "metadata": {},
   "outputs": [
    {
     "name": "stdout",
     "output_type": "stream",
     "text": [
      "Kisaran Interkuartil reading_score = 20.0\n"
     ]
    }
   ],
   "source": [
    "print(\"Kisaran Interkuartil reading_score =\", df[\"reading_score\"].quantile(0.75) - df[\"reading_score\"].quantile(0.25))"
   ]
  },
  {
   "cell_type": "markdown",
   "id": "f153fe4d-0d63-4117-8343-bb0a4c2498b5",
   "metadata": {},
   "source": [
    "#### writing_score Q1,Q2,Q3"
   ]
  },
  {
   "cell_type": "code",
   "execution_count": 218,
   "id": "dde5be1f-0b8c-4fe6-bbf5-6a3dfe833f43",
   "metadata": {},
   "outputs": [
    {
     "name": "stdout",
     "output_type": "stream",
     "text": [
      "Q1 =  57.75\n",
      "Q2 =  69.0\n",
      "Q3 =  79.0\n"
     ]
    }
   ],
   "source": [
    "print(\"Q1 = \",df['writing_score'].quantile(0.25))\n",
    "print(\"Q2 = \",df['writing_score'].quantile(0.50))\n",
    "print(\"Q3 = \",df['writing_score'].quantile(0.75))"
   ]
  },
  {
   "cell_type": "markdown",
   "id": "86b366dc-3a80-466a-af1a-817443240de3",
   "metadata": {},
   "source": [
    "#### Jadi kisaran interkuartil writing_score = Q3-Q1"
   ]
  },
  {
   "cell_type": "code",
   "execution_count": 152,
   "id": "8df81581-36c7-4e53-9ac5-e52fb1e8e15a",
   "metadata": {},
   "outputs": [
    {
     "name": "stdout",
     "output_type": "stream",
     "text": [
      "Kisaran Interkuartil writing_score = 21.25\n"
     ]
    }
   ],
   "source": [
    "print(\"Kisaran Interkuartil writing_score =\", df[\"writing_score\"].quantile(0.75) - df[\"writing_score\"].quantile(0.25))"
   ]
  },
  {
   "cell_type": "markdown",
   "id": "8f9bced9-e074-4053-9001-957a3551f914",
   "metadata": {},
   "source": [
    "## -Varians"
   ]
  },
  {
   "cell_type": "code",
   "execution_count": 163,
   "id": "b51b6423-a051-4045-8e87-ba7b6520d704",
   "metadata": {},
   "outputs": [
    {
     "name": "stdout",
     "output_type": "stream",
     "text": [
      "Varians reading_score = 213.16560460460462\n",
      "Varians writing_score = 230.907991991992\n"
     ]
    }
   ],
   "source": [
    "print(\"Varians reading_score =\",df['reading_score'].var())\n",
    "print(\"Varians writing_score =\",df['writing_score'].var())"
   ]
  },
  {
   "cell_type": "markdown",
   "id": "829124b0-3348-4890-9f71-142ff347796f",
   "metadata": {},
   "source": [
    "## -Standar Deviasi"
   ]
  },
  {
   "cell_type": "markdown",
   "id": "8a5798f6-6103-4fc0-b236-c1b7434afb3d",
   "metadata": {},
   "source": [
    "#### reading score"
   ]
  },
  {
   "cell_type": "code",
   "execution_count": 165,
   "id": "bb8d07da-b209-4e6d-8940-b730e72960b9",
   "metadata": {},
   "outputs": [
    {
     "name": "stdout",
     "output_type": "stream",
     "text": [
      "Standar Deviasi reading_score = 14.600191937252216\n",
      "Standar Deviasi writing_score = 15.19565701086965\n"
     ]
    }
   ],
   "source": [
    "print(\"Standar Deviasi reading_score =\",df['reading_score'].std())\n",
    "print(\"Standar Deviasi writing_score =\",df['writing_score'].std())"
   ]
  },
  {
   "cell_type": "markdown",
   "id": "33cd0fb5-52fd-4afe-a2d8-e3c014aba5f8",
   "metadata": {},
   "source": [
    "# D.Buat Grafik data Variabel reading_score dan writing_score: Histogram, BOX PLOT, dan Tentukan Nilai Skewness dan Kurtosis. Buat interpretasi saudara tentang perbedaan distribusi kedua variable tersebut, terutama pada gambar BOX PLOT dan nilai Skewness - Kurtosisnya."
   ]
  },
  {
   "cell_type": "markdown",
   "id": "926964d3-b263-4ac4-a967-b34095a70faf",
   "metadata": {},
   "source": [
    "## -Histogram reading_score"
   ]
  },
  {
   "cell_type": "code",
   "execution_count": 95,
   "id": "acb596bc-8fc4-420c-90ef-5778a789f3b4",
   "metadata": {},
   "outputs": [
    {
     "data": {
      "text/plain": [
       "<AxesSubplot:>"
      ]
     },
     "execution_count": 95,
     "metadata": {},
     "output_type": "execute_result"
    },
    {
     "data": {
      "image/png": "[encoded data removed]",
      "text/plain": [
       "<Figure size 640x480 with 1 Axes>"
      ]
     },
     "metadata": {},
     "output_type": "display_data"
    }
   ],
   "source": [
    "df.reading_score.sort_values().reset_index(drop=True).hist()"
   ]
  },
  {
   "cell_type": "markdown",
   "id": "0ce6a2a0-9940-49d6-a35c-daea3ab8dbd5",
   "metadata": {},
   "source": [
    "## - Histogram writing_score"
   ]
  },
  {
   "cell_type": "code",
   "execution_count": 97,
   "id": "b28c5622-6f7d-464a-9201-92dac16c5672",
   "metadata": {},
   "outputs": [
    {
     "data": {
      "text/plain": [
       "<AxesSubplot:>"
      ]
     },
     "execution_count": 97,
     "metadata": {},
     "output_type": "execute_result"
    },
    {
     "data": {
      "image/png": "[encoded data removed]",
      "text/plain": [
       "<Figure size 640x480 with 1 Axes>"
      ]
     },
     "metadata": {},
     "output_type": "display_data"
    }
   ],
   "source": [
    "df.writing_score.sort_values().reset_index(drop=True).hist()"
   ]
  },
  {
   "cell_type": "markdown",
   "id": "5975bc59-15b2-4151-8d56-89a578d7a007",
   "metadata": {},
   "source": [
    "## - Boxplot"
   ]
  },
  {
   "cell_type": "code",
   "execution_count": 99,
   "id": "a9435cff-b7e1-4149-9393-12c6915c8c87",
   "metadata": {},
   "outputs": [
    {
     "data": {
      "text/plain": [
       "<AxesSubplot:>"
      ]
     },
     "execution_count": 99,
     "metadata": {},
     "output_type": "execute_result"
    },
    {
     "data": {
      "image/png": "[encoded data removed]",
      "text/plain": [
       "<Figure size 640x480 with 1 Axes>"
      ]
     },
     "metadata": {},
     "output_type": "display_data"
    }
   ],
   "source": [
    "df.boxplot(column = ['reading_score', 'writing_score'])"
   ]
  },
  {
   "cell_type": "markdown",
   "id": "510c3691-96b2-4fc2-8a31-9e7f4fd714af",
   "metadata": {},
   "source": [
    "## -Nilai Skewness"
   ]
  },
  {
   "cell_type": "code",
   "execution_count": 179,
   "id": "42697e27-c445-4572-864b-241fda7f73d4",
   "metadata": {},
   "outputs": [
    {
     "name": "stdout",
     "output_type": "stream",
     "text": [
      "Nilai Skewness reading_score = -0.25910451810923063\n",
      "Nilai Skewness writing_score = -0.28944397150761897\n"
     ]
    }
   ],
   "source": [
    "print(\"Nilai Skewness reading_score =\",df['reading_score'].skew())\n",
    "print(\"Nilai Skewness writing_score =\",df['writing_score'].skew())"
   ]
  },
  {
   "cell_type": "markdown",
   "id": "38041b22-de86-4025-a15c-2627d8c17086",
   "metadata": {},
   "source": [
    "## - Kurtosis"
   ]
  },
  {
   "cell_type": "code",
   "execution_count": 182,
   "id": "3aca254a-d48d-4003-b58b-4e1d706d10c0",
   "metadata": {},
   "outputs": [
    {
     "name": "stdout",
     "output_type": "stream",
     "text": [
      "Kurtosis reading_score = -0.0682654585647704\n",
      "Kurtosis writing_score = -0.03336461500693577\n"
     ]
    }
   ],
   "source": [
    "print(\"Kurtosis reading_score =\",df['reading_score'].kurtosis())\n",
    "print(\"Kurtosis writing_score =\",df['writing_score'].kurtosis())"
   ]
  },
  {
   "cell_type": "markdown",
   "id": "54c93324-ff0b-453f-a082-e5536082c592",
   "metadata": {},
   "source": [
    "# E.Buat scater plot antara writing_score (dependent variable-Y) versus reading_score (independent variable-X). Tulis interpretasi saudara apakah ada indikasi hubungan liear antar keduanya."
   ]
  },
  {
   "cell_type": "code",
   "execution_count": 222,
   "id": "948b35a5-81e3-40e9-89b8-f55c4ff8f171",
   "metadata": {},
   "outputs": [
    {
     "data": {
      "text/plain": [
       "<AxesSubplot:title={'center':'Reading_score VS Writing_score'}, xlabel='reading_score', ylabel='writing_score'>"
      ]
     },
     "execution_count": 222,
     "metadata": {},
     "output_type": "execute_result"
    },
    {
     "data": {
      "image/png": "[encoded data removed]",
      "text/plain": [
       "<Figure size 500x500 with 1 Axes>"
      ]
     },
     "metadata": {},
     "output_type": "display_data"
    }
   ],
   "source": [
    "plt.figure(figsize=(5,5))\n",
    "plt.title('Reading_score VS Writing_score',fontsize= 15)\n",
    "sns.scatterplot(x=df['reading_score'],y=df['writing_score'],hue= df['gender'])"
   ]
  },
  {
   "cell_type": "code",
   "execution_count": null,
   "id": "5dd06290-3133-4e22-b9a2-d682a0d1921b",
   "metadata": {},
   "outputs": [],
   "source": []
  }
 ],
 "metadata": {
  "kernelspec": {
   "display_name": "Python 3 (ipykernel)",
   "language": "python",
   "name": "python3"
  },
  "language_info": {
   "codemirror_mode": {
    "name": "ipython",
    "version": 3
   },
   "file_extension": ".py",
   "mimetype": "text/x-python",
   "name": "python",
   "nbconvert_exporter": "python",
   "pygments_lexer": "ipython3",
   "version": "3.10.7"
  }
 },
 "nbformat": 4,
 "nbformat_minor": 5
}
